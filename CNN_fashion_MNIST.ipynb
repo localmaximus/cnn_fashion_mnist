{
  "nbformat": 4,
  "nbformat_minor": 0,
  "metadata": {
    "colab": {
      "name": "CNN fashion MNIST.ipynb",
      "provenance": [],
      "collapsed_sections": []
    },
    "kernelspec": {
      "name": "python3",
      "display_name": "Python 3"
    }
  },
  "cells": [
    {
      "cell_type": "code",
      "metadata": {
        "id": "ui8gjjzOgDPM",
        "colab": {
          "base_uri": "https://localhost:8080/",
          "height": 35
        },
        "outputId": "364db571-b6db-4a99-ddd0-5e58f3ff6bd6"
      },
      "source": [
        "import tensorflow as tf\n",
        "tf.__version__"
      ],
      "execution_count": null,
      "outputs": [
        {
          "output_type": "execute_result",
          "data": {
            "application/vnd.google.colaboratory.intrinsic+json": {
              "type": "string"
            },
            "text/plain": [
              "'2.3.0'"
            ]
          },
          "metadata": {
            "tags": []
          },
          "execution_count": 1
        }
      ]
    },
    {
      "cell_type": "code",
      "metadata": {
        "id": "KWx_8ylygxjk"
      },
      "source": [
        "from tensorflow.keras.layers import Flatten, Conv2D, Dense, Input, Dropout\n",
        "from tensorflow.keras.models import Model"
      ],
      "execution_count": null,
      "outputs": []
    },
    {
      "cell_type": "code",
      "metadata": {
        "id": "qu6CqQOGhMNJ"
      },
      "source": [
        "fashion_mnist = tf.keras.datasets.fashion_mnist"
      ],
      "execution_count": null,
      "outputs": []
    },
    {
      "cell_type": "code",
      "metadata": {
        "id": "8jgH4kXbhWoA",
        "colab": {
          "base_uri": "https://localhost:8080/",
          "height": 156
        },
        "outputId": "02588f5a-f7d1-4c03-e498-3655433f8f06"
      },
      "source": [
        "(X_train, Y_train), (x_test, y_test) = fashion_mnist.load_data()"
      ],
      "execution_count": null,
      "outputs": [
        {
          "output_type": "stream",
          "text": [
            "Downloading data from https://storage.googleapis.com/tensorflow/tf-keras-datasets/train-labels-idx1-ubyte.gz\n",
            "32768/29515 [=================================] - 0s 0us/step\n",
            "Downloading data from https://storage.googleapis.com/tensorflow/tf-keras-datasets/train-images-idx3-ubyte.gz\n",
            "26427392/26421880 [==============================] - 0s 0us/step\n",
            "Downloading data from https://storage.googleapis.com/tensorflow/tf-keras-datasets/t10k-labels-idx1-ubyte.gz\n",
            "8192/5148 [===============================================] - 0s 0us/step\n",
            "Downloading data from https://storage.googleapis.com/tensorflow/tf-keras-datasets/t10k-images-idx3-ubyte.gz\n",
            "4423680/4422102 [==============================] - 0s 0us/step\n"
          ],
          "name": "stdout"
        }
      ]
    },
    {
      "cell_type": "code",
      "metadata": {
        "id": "AXobPhWKhiDO"
      },
      "source": [
        "X_train, x_test = X_train / 255.0, x_test / 255.0"
      ],
      "execution_count": null,
      "outputs": []
    },
    {
      "cell_type": "code",
      "metadata": {
        "id": "DXsw1ZU8hlgo",
        "colab": {
          "base_uri": "https://localhost:8080/",
          "height": 52
        },
        "outputId": "00091d1b-74b3-42df-ed37-1a413f79ffe1"
      },
      "source": [
        "print('shape of training data', X_train.shape)\n",
        "print(Y_train.shape)"
      ],
      "execution_count": null,
      "outputs": [
        {
          "output_type": "stream",
          "text": [
            "shape of training data (60000, 28, 28)\n",
            "(60000,)\n"
          ],
          "name": "stdout"
        }
      ]
    },
    {
      "cell_type": "code",
      "metadata": {
        "id": "-rZIXWM6jDbP",
        "colab": {
          "base_uri": "https://localhost:8080/",
          "height": 35
        },
        "outputId": "e005853e-f942-43ba-9567-ef6da31f67b7"
      },
      "source": [
        "k = len(set(Y_train))\n",
        "print('number of output nodes', k)"
      ],
      "execution_count": null,
      "outputs": [
        {
          "output_type": "stream",
          "text": [
            "number of output nodes 10\n"
          ],
          "name": "stdout"
        }
      ]
    },
    {
      "cell_type": "code",
      "metadata": {
        "id": "Iuvi6CCdofuj",
        "colab": {
          "base_uri": "https://localhost:8080/",
          "height": 35
        },
        "outputId": "ff53478e-3619-45a4-8716-3f0b54fbd00f"
      },
      "source": [
        "import numpy as np\n",
        "\n",
        "X_train = np.expand_dims(X_train, -1)\n",
        "x_test = np.expand_dims(x_test, -1)\n",
        "print(X_train.shape)\n"
      ],
      "execution_count": null,
      "outputs": [
        {
          "output_type": "stream",
          "text": [
            "(60000, 28, 28, 1)\n"
          ],
          "name": "stdout"
        }
      ]
    },
    {
      "cell_type": "code",
      "metadata": {
        "id": "pC1GlRRpjOIG"
      },
      "source": [
        "i = Input(shape=X_train[0].shape)\n",
        "x = Conv2D(32,(3,3), strides=2, activation='relu')(i)\n",
        "x = Conv2D(64,(3,3), strides=2, activation='relu')(x)\n",
        "x = Conv2D(128,(3,3), strides=2, activation='relu')(x)\n",
        "x = Flatten()(x)\n",
        "x = Dense(64, activation='relu')(x)\n",
        "x = Dense(k, activation='softmax')(x)\n",
        "\n",
        "model = Model(i, x)\n"
      ],
      "execution_count": null,
      "outputs": []
    },
    {
      "cell_type": "code",
      "metadata": {
        "id": "1LagJXHrUeAN",
        "colab": {
          "base_uri": "https://localhost:8080/",
          "height": 399
        },
        "outputId": "1d161e18-4f08-4148-f3b6-929fa32ba210"
      },
      "source": [
        "model.summary()"
      ],
      "execution_count": null,
      "outputs": [
        {
          "output_type": "stream",
          "text": [
            "Model: \"functional_1\"\n",
            "_________________________________________________________________\n",
            "Layer (type)                 Output Shape              Param #   \n",
            "=================================================================\n",
            "input_1 (InputLayer)         [(None, 28, 28, 1)]       0         \n",
            "_________________________________________________________________\n",
            "conv2d (Conv2D)              (None, 13, 13, 32)        320       \n",
            "_________________________________________________________________\n",
            "conv2d_1 (Conv2D)            (None, 6, 6, 64)          18496     \n",
            "_________________________________________________________________\n",
            "conv2d_2 (Conv2D)            (None, 2, 2, 128)         73856     \n",
            "_________________________________________________________________\n",
            "flatten (Flatten)            (None, 512)               0         \n",
            "_________________________________________________________________\n",
            "dense (Dense)                (None, 64)                32832     \n",
            "_________________________________________________________________\n",
            "dense_1 (Dense)              (None, 10)                650       \n",
            "=================================================================\n",
            "Total params: 126,154\n",
            "Trainable params: 126,154\n",
            "Non-trainable params: 0\n",
            "_________________________________________________________________\n"
          ],
          "name": "stdout"
        }
      ]
    },
    {
      "cell_type": "code",
      "metadata": {
        "id": "a95mfXNHi1Pn"
      },
      "source": [
        "model.compile(optimizer='adam',\n",
        "              loss = 'sparse_categorical_crossentropy',\n",
        "              metrics = ['accuracy'])"
      ],
      "execution_count": null,
      "outputs": []
    },
    {
      "cell_type": "code",
      "metadata": {
        "id": "95YqH9L1jR86",
        "colab": {
          "base_uri": "https://localhost:8080/",
          "height": 364
        },
        "outputId": "8469c052-855f-427e-8763-2e344f972c34"
      },
      "source": [
        "r = model.fit(X_train, Y_train, validation_data=(x_test, y_test), epochs = 10)"
      ],
      "execution_count": null,
      "outputs": [
        {
          "output_type": "stream",
          "text": [
            "Epoch 1/10\n",
            "1875/1875 [==============================] - 21s 11ms/step - loss: 0.5243 - accuracy: 0.8073 - val_loss: 0.4194 - val_accuracy: 0.8471\n",
            "Epoch 2/10\n",
            "1875/1875 [==============================] - 21s 11ms/step - loss: 0.3578 - accuracy: 0.8671 - val_loss: 0.3586 - val_accuracy: 0.8678\n",
            "Epoch 3/10\n",
            "1875/1875 [==============================] - 21s 11ms/step - loss: 0.3061 - accuracy: 0.8859 - val_loss: 0.3391 - val_accuracy: 0.8762\n",
            "Epoch 4/10\n",
            "1875/1875 [==============================] - 21s 11ms/step - loss: 0.2719 - accuracy: 0.8975 - val_loss: 0.3024 - val_accuracy: 0.8892\n",
            "Epoch 5/10\n",
            "1875/1875 [==============================] - 20s 11ms/step - loss: 0.2400 - accuracy: 0.9099 - val_loss: 0.3157 - val_accuracy: 0.8828\n",
            "Epoch 6/10\n",
            "1875/1875 [==============================] - 20s 11ms/step - loss: 0.2178 - accuracy: 0.9186 - val_loss: 0.3116 - val_accuracy: 0.8928\n",
            "Epoch 7/10\n",
            "1875/1875 [==============================] - 20s 11ms/step - loss: 0.1923 - accuracy: 0.9269 - val_loss: 0.3051 - val_accuracy: 0.8987\n",
            "Epoch 8/10\n",
            "1875/1875 [==============================] - 20s 10ms/step - loss: 0.1723 - accuracy: 0.9345 - val_loss: 0.3073 - val_accuracy: 0.8974\n",
            "Epoch 9/10\n",
            "1875/1875 [==============================] - 20s 10ms/step - loss: 0.1531 - accuracy: 0.9414 - val_loss: 0.3279 - val_accuracy: 0.8969\n",
            "Epoch 10/10\n",
            "1875/1875 [==============================] - 20s 10ms/step - loss: 0.1377 - accuracy: 0.9477 - val_loss: 0.3424 - val_accuracy: 0.8952\n"
          ],
          "name": "stdout"
        }
      ]
    },
    {
      "cell_type": "code",
      "metadata": {
        "id": "-Ylxm3CTjI_f",
        "colab": {
          "base_uri": "https://localhost:8080/",
          "height": 283
        },
        "outputId": "dd215b1f-b4ae-40ef-d5a7-3689878c503a"
      },
      "source": [
        "import matplotlib.pyplot as plt\n",
        "\n",
        "plt.plot(r.history['accuracy'], label = 'acc')\n",
        "plt.plot(r.history['val_accuracy'], label = 'val_acc')\n",
        "plt.legend"
      ],
      "execution_count": null,
      "outputs": [
        {
          "output_type": "execute_result",
          "data": {
            "text/plain": [
              "<function matplotlib.pyplot.legend>"
            ]
          },
          "metadata": {
            "tags": []
          },
          "execution_count": 19
        },
        {
          "output_type": "display_data",
          "data": {
            "image/png": "[encoded data removed]",
            "text/plain": [
              "<Figure size 432x288 with 1 Axes>"
            ]
          },
          "metadata": {
            "tags": [],
            "needs_background": "light"
          }
        }
      ]
    },
    {
      "cell_type": "code",
      "metadata": {
        "id": "7_uon4HVoXFf"
      },
      "source": [
        "predictions = model.predict(x_test)\n",
        "predictions = predictions.argmax(axis = 1)"
      ],
      "execution_count": null,
      "outputs": []
    },
    {
      "cell_type": "code",
      "metadata": {
        "id": "0VuktBTzlh8U",
        "colab": {
          "base_uri": "https://localhost:8080/",
          "height": 208
        },
        "outputId": "5d221715-d891-4a3b-d701-56e987c05708"
      },
      "source": [
        "tf.math.confusion_matrix(y_test, predictions)"
      ],
      "execution_count": null,
      "outputs": [
        {
          "output_type": "execute_result",
          "data": {
            "text/plain": [
              "<tf.Tensor: shape=(10, 10), dtype=int32, numpy=\n",
              "array([[880,   0,  21,  11,   4,   1,  75,   0,   8,   0],\n",
              "       [  1, 974,   0,  18,   1,   0,   4,   0,   2,   0],\n",
              "       [ 22,   1, 861,  10,  53,   0,  53,   0,   0,   0],\n",
              "       [ 18,   3,  19, 911,   9,   0,  40,   0,   0,   0],\n",
              "       [  1,   1,  74,  52, 807,   0,  64,   0,   1,   0],\n",
              "       [  1,   0,   1,   1,   0, 963,   0,  25,   2,   7],\n",
              "       [134,   1,  81,  21,  94,   0, 657,   0,  12,   0],\n",
              "       [  0,   0,   0,   0,   0,   5,   0, 989,   0,   6],\n",
              "       [  3,   1,   2,   5,   3,   2,   9,   3, 972,   0],\n",
              "       [  0,   0,   0,   0,   0,   4,   1,  56,   1, 938]], dtype=int32)>"
            ]
          },
          "metadata": {
            "tags": []
          },
          "execution_count": 24
        }
      ]
    },
    {
      "cell_type": "code",
      "metadata": {
        "id": "Z-s7u3yxt-C3",
        "colab": {
          "base_uri": "https://localhost:8080/",
          "height": 35
        },
        "outputId": "50ecca00-0fc3-4a3c-f7b6-8bc9a4f6da39"
      },
      "source": [
        "labels = {0: 'Tshirt/Top', 1:'Trouser', 2:'pullover', 3:'Dress', 4:'coat', 5:'sandal', 6:'shirt', 7:'sneaker', 8:'bag', 9:'ankleboot'}\n",
        "labels[5]\n"
      ],
      "execution_count": null,
      "outputs": [
        {
          "output_type": "execute_result",
          "data": {
            "application/vnd.google.colaboratory.intrinsic+json": {
              "type": "string"
            },
            "text/plain": [
              "'shirt'"
            ]
          },
          "metadata": {
            "tags": []
          },
          "execution_count": 43
        }
      ]
    },
    {
      "cell_type": "code",
      "metadata": {
        "id": "c0ol1CCvovk4",
        "colab": {
          "base_uri": "https://localhost:8080/",
          "height": 52
        },
        "outputId": "b67f6296-65c1-411b-f991-d906779dbc77"
      },
      "source": [
        "misclassified_id = np.where(y_test != predictions)[0]\n",
        "print(misclassified_id)\n",
        "print(len(misclassified_id))"
      ],
      "execution_count": null,
      "outputs": [
        {
          "output_type": "stream",
          "text": [
            "[   7   23   25 ... 9969 9972 9991]\n",
            "1048\n"
          ],
          "name": "stdout"
        }
      ]
    },
    {
      "cell_type": "code",
      "metadata": {
        "id": "fnENet68rgfD",
        "colab": {
          "base_uri": "https://localhost:8080/",
          "height": 283
        },
        "outputId": "f1763da7-3afa-453b-914f-6c4039c993f0"
      },
      "source": [
        "i = np.random.choice(misclassified_id)\n",
        "x_test_gray = np.mean(x_test, axis = -1)\n",
        "plt.imshow(x_test_gray[i], cmap = 'gray')\n",
        "print('predicted:', labels[predictions[i]], '  Real:', labels[y_test[i]])"
      ],
      "execution_count": null,
      "outputs": [
        {
          "output_type": "stream",
          "text": [
            "predicted: Dress   Real: pullover\n"
          ],
          "name": "stdout"
        },
        {
          "output_type": "display_data",
          "data": {
            "image/png": "[encoded data removed]",
            "text/plain": [
              "<Figure size 432x288 with 1 Axes>"
            ]
          },
          "metadata": {
            "tags": [],
            "needs_background": "light"
          }
        }
      ]
    },
    {
      "cell_type": "code",
      "metadata": {
        "id": "HhomtEwmr1ux",
        "colab": {
          "base_uri": "https://localhost:8080/",
          "height": 35
        },
        "outputId": "116fd8ba-3a7b-4f51-d1f5-4ed22ab1acb8"
      },
      "source": [
        "Y_train"
      ],
      "execution_count": null,
      "outputs": [
        {
          "output_type": "execute_result",
          "data": {
            "text/plain": [
              "array([9, 0, 0, ..., 3, 0, 5], dtype=uint8)"
            ]
          },
          "metadata": {
            "tags": []
          },
          "execution_count": 50
        }
      ]
    },
    {
      "cell_type": "code",
      "metadata": {
        "id": "l1RDU0oDsrbH"
      },
      "source": [
        ""
      ],
      "execution_count": null,
      "outputs": []
    }
  ]
}